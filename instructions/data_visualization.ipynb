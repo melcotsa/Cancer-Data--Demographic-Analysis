{
  "nbformat": 4,
  "nbformat_minor": 0,
  "metadata": {
    "colab": {
      "provenance": []
    },
    "kernelspec": {
      "name": "python3",
      "display_name": "Python 3"
    },
    "language_info": {
      "name": "python"
    }
  },
  "cells": [
    {
      "cell_type": "code",
      "execution_count": null,
      "metadata": {
        "id": "eCMmMjTwIQXA"
      },
      "outputs": [],
      "source": []
    },
    {
      "cell_type": "markdown",
      "source": [
        "# **How to Create a Data Visualization!**\n",
        "\n",
        "In the following document, you will learn how to replicate the graph seen on the README of this data repository. The chart will be made entirely in Excel.\n",
        "\n",
        "-----\n",
        "# Overview of Process\n",
        "1. Open data subset in Excel.\n",
        "2. Create a pivot table.\n",
        "3. Filter the pivot table.\n",
        "4. Create a graph based on the table.\n",
        "---\n",
        "### Part 1: Getting Started\n",
        "1. Open the file \"chunk_SPDS_subset.csv\" found in the data folder of this repository.\n",
        "2. Download the `.csv` file and save it in an accessible place on your computer.\n",
        "3. Locate the `.csv` you just saved. Open in with Excel.\n",
        ">**On a MacBook this is done by right-clicking on the `.csv` in your Finder and pressing \"Open With\" > \"Microsoft Excel\"**\n",
        ">\n",
        "4. You should now have a new Excel workbook open.\n",
        "---\n",
        "### Part 2: Creating a Pivot Table\n",
        "5. Press the button \"Pivot Table\" found in the \"Insert\" tab on Excel.\n",
        "6. Pressing the Pivot Table button should automatically highlight the 2 columns \"sex\" and \"primary_diagnosis_site\". Click the \"okay\" to create the pivot table.\n",
        "7. Drop the \"primary_diagnosis_site\" filed into the Rows section. Drop \"sex\" into the columns section and the values section.\n",
        "8. Exit out of the panel with the pivot fields.\n",
        "---\n",
        "### Part 3: Filtering the Pivot Table\n",
        "9. Hover over the cell named \"Row Labels\" in the pivot table you just made. Press the down arrow on the right side of that cell. A list of the different row labels with appear with checked boxes next to them.\n",
        "10. Uncheck/unselect the following labels: \"cervix\", \"cervix uteri\", \"corpus uteri\", \"ovary\", \"prostate gland\", \"uterus,nos\".\n",
        "> **Make sure the filters are applied. If the filters were correctly applied, all of the row labels you unchecked should no longer be included in the pivot table.**\n",
        ">\n",
        "11. Hover over the cell named \"Column Labels\".\n",
        "12. Uncheck the \"(blank)\" label.\n",
        "> **Check that the filter was applied by ensuring that the column called \"(blank)\" is no longer included in the pivot table.**\n",
        ">\n",
        "---\n",
        "### Part 4: Creating the Graph\n",
        "14. Highlight the whole pivot table.\n",
        "15. Go to the insert tab on the top of the Excel Sheet.\n",
        "16. Press the button \"Pivot Chart\".\n",
        "## *Admire your new data visualization!*"
      ],
      "metadata": {
        "id": "P8crAR-TIb1L"
      }
    },
    {
      "cell_type": "code",
      "source": [],
      "metadata": {
        "id": "IFKOAV3AMykl"
      },
      "execution_count": null,
      "outputs": []
    }
  ]
}
